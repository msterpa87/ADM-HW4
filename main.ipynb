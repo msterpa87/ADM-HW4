{
 "cells": [
  {
   "cell_type": "code",
   "execution_count": 3,
   "metadata": {},
   "outputs": [],
   "source": [
    "%load_ext autoreload\n",
    "%autoreload 2"
   ]
  },
  {
   "cell_type": "markdown",
   "metadata": {},
   "source": [
    "### HyperLogLog\n",
    "\n",
    "In this task we use the HLL data structure to produce an estimate of the number of distinct strings in the file `hash.txt`.\n",
    "\n",
    "The command `cat hash.txt | uniq | wc -l` has been used to produce the exact count which is *139000000* distinct strings.\n",
    "\n",
    "The underlying hash function used by HLL has been implemented according to the **multiply-shift** scheme defined on [Wikipedia](https://en.wikipedia.org/wiki/Universal_hashing). \n",
    "\n",
    "We use *32 bits* for the hash, i.e. $$h:\\big\\{U \\rightarrow [m]\\big\\}$$ where $m=2048$.\n",
    "\n",
    "We then use *6 bits* for the buckets, i.e. *64 buckets*, so according to [Flajolet et. al](http://algo.inria.fr/flajolet/Publications/FlFuGaMe07.pdf) we can expect $1.04/\\sqrt(m)$ relative accuracy.\n",
    "\n",
    "Recall the formula of relative accuracy is given by:\n",
    "\n",
    "$$RE_{accuracy} = \\frac{\\mbox{absolute error}}{\\mbox{\"true\" value}} \\cdot 100\\%$$\n",
    "\n",
    "Which in this setting should expect a **2.30% relative accuracy**"
   ]
  },
  {
   "cell_type": "code",
   "execution_count": 40,
   "metadata": {},
   "outputs": [
    {
     "name": "stdout",
     "output_type": "stream",
     "text": [
      "Distinct elements:  141943507\n",
      "Relative accuracy: 2.12%\n"
     ]
    }
   ],
   "source": [
    "from my_hyperloglog import *\n",
    "\n",
    "estimate = estimate_distinct(\"full_hash.txt\")\n",
    "re_acc = relative_accuracy(estimate)\n",
    "\n",
    "print(\"Distinct elements: \", estimate)\n",
    "print(\"Relative accuracy: {:.2%}\".format(re_acc))"
   ]
  },
  {
   "cell_type": "markdown",
   "metadata": {},
   "source": [
    "We can see that in this instance the error generated is **6.47%**."
   ]
  },
  {
   "cell_type": "code",
   "execution_count": 31,
   "metadata": {},
   "outputs": [
    {
     "name": "stdout",
     "output_type": "stream",
     "text": [
      "2.30%\n"
     ]
    }
   ],
   "source": [
    "import math\n",
    "\n",
    "print(\"{:.2%}\".format(1.04/math.sqrt(2048)))"
   ]
  },
  {
   "cell_type": "code",
   "execution_count": null,
   "metadata": {},
   "outputs": [],
   "source": []
  }
 ],
 "metadata": {
  "kernelspec": {
   "display_name": "Python 3",
   "language": "python",
   "name": "python3"
  },
  "language_info": {
   "codemirror_mode": {
    "name": "ipython",
    "version": 3
   },
   "file_extension": ".py",
   "mimetype": "text/x-python",
   "name": "python",
   "nbconvert_exporter": "python",
   "pygments_lexer": "ipython3",
   "version": "3.7.1"
  }
 },
 "nbformat": 4,
 "nbformat_minor": 2
}
